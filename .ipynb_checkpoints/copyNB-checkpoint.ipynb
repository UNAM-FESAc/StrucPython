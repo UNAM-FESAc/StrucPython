{
 "cells": [
  {
   "attachments": {},
   "cell_type": "markdown",
   "metadata": {},
   "source": [
    "<img src=\"GCCYC.png\" alt=\"Logo GCCyC\" style=\"float: right; margin-right: 30px; width:150px\" />\n",
    "<!---\n",
    "![sources/GCCYC.png](attachment:sources/GCCYC.png)![sources/GCCYC.png](attachment:sources/GCCYC.png)\n",
    "![sources/logo-unam.png](attachment:sources/logo-unam.png)![sources/logo-unam.png](attachment:sources/logo-unam.png)\n",
    "<img src=\"../sources/GCCYC.png\" alt=\"Logo GCCyC\" style=\"float: right; margin-right: 30px; width:150px\" />\n",
    "<img src=\"../sources/logo-unam.png\" alt=\"Logo UNAM\" style=\"float: left; margin-right: 30px; width:150px\" />\n",
    "--->\n",
    "\n",
    "\n",
    "# 1. Manejo de archivos <a name=\"PA1_lecturaArchivos\"></a>\n",
    "___\n",
    "Tanto en python como en muchos otros lenguajes de programación es de suma utilidad el manejo de archivos. Ya sea para leer información relevante que no se encuentra en la memoria volátil o para escribir los resultados de una serie de cálculos.\n",
    "\n",
    "1. [Abrir y cerrar archivos](#PA1_sec1)\n",
    "1. [Lectura de archivos](#PA1_sec2)\n",
    "1. [Escritura de archivos](#PA1_sec3)\n",
    "1. [Funciones extra](#PA1_sec4)\n",
    "1. [Sección Yeyecoa](#PA1_seccionYeyecoa)\n"
   ]
  },
  {
   "cell_type": "markdown",
   "metadata": {},
   "source": [
    "## Abrir y cerrar archivos <a name=\"PA1_sec1\"></a>\n",
    "\n",
    "Antes de poder manipular cualquier archivo es necesario 'abrirlo' para poder manipularlo. Esto lo haremos asignando a una variable el archivo deseado a través de la función **open()**, la cuál recibe el nombre del archivo por abrir y el *modo* en el que será abierto. Más adelante hablaremos más sobre cuáles son estas modalidades.\n",
    "Para cerrar un archivo se utiliza la función **close()**. Es recomendable cerrar un archivo una vez que lo hayas terminado de usar.\n",
    "\n",
    "En el siguiente código veremos la sintaxis utilizada para abrir y cerrar un archivo titulado *'archivo1.txt'*. \n",
    "\n",
    "\n",
    "```python\n",
    "archivo = open('archivo1.txt', 'rt') # Aquí podemos ver que el modo de apertura utilizado es 'rt'\n",
    "\n",
    "# Aquí irá el código para manipular el archivo\n",
    "\n",
    "archivo.close() # Aquí se cierra el archivo\n",
    "```\n",
    "\n",
    "Como pudimos ver, este proceso es bastante sencillo pero debemos poner especial atención en cuál será el propósito del archivo a abrir ya que podemos obtener errores si no manejamos el archivo correctamente.\n",
    "\n",
    ">**Ejercicio**\n",
    "> - ¿De qué tipo es la variable que 'aloja' al archivo?\n",
    "> - ¿Qué crees que signifique el modo 'rt'?\n",
    "\n",
    "<div style=\"text-align: right\"> \n",
    "Regresar al <a href=\"#PA1_lecturaArchivos\">Inicio</a>\n",
    "</div>"
   ]
  },
  {
   "cell_type": "markdown",
   "metadata": {},
   "source": [
    "## Lectura de archivos <a name=\"PA1_sec2\"></a>\n",
    "\n",
    "El primer uso que se le puede dar a un archivo es para realizar su lectura. Esto se logra usando el modo **r** (por la palabra *read* en inglés) seguido de la letra **t** o **b** dependiendo si el archivo se debe manejar como un archivo de **t**exto o como un **b**inario.\n",
    "Cabe destacar que el modo *'r'* **solamente permite lectura** y que regresa un error si no encuentra el archivo especificado.\n",
    "\n",
    "Para leer todo el contenido de un archivo utilizamos la función **read()** veamos el siguiente ejemplo."
   ]
  },
  {
   "cell_type": "code",
   "execution_count": 2,
   "metadata": {},
   "outputs": [
    {
     "name": "stdout",
     "output_type": "stream",
     "text": [
      "Has abierto un archivo!\n",
      "Descrube todas las formas de manipular archivos en Python.\n"
     ]
    }
   ],
   "source": [
    "archivo = open('../sources/archivo1.txt', 'rt') # Usamos la 't' ya que usaremos un archivo de texto\n",
    "\n",
    "contenido = archivo.read()\n",
    "\n",
    "print(contenido)\n",
    "\n",
    "archivo.close()"
   ]
  },
  {
   "cell_type": "markdown",
   "metadata": {},
   "source": [
    "También podemos leer un número específico de caracteres con la función **read()**. Por ejemplo, para leer los primeros 10 caracteres debemos escribir `archivo.read(10)`."
   ]
  },
  {
   "cell_type": "code",
   "execution_count": 4,
   "metadata": {},
   "outputs": [
    {
     "name": "stdout",
     "output_type": "stream",
     "text": [
      "Has abiert\n"
     ]
    }
   ],
   "source": [
    "archivo = open('../sources/archivo1.txt', 'rt') \n",
    "\n",
    "print(archivo.read(10))\n",
    "\n",
    "archivo.close()"
   ]
  },
  {
   "cell_type": "markdown",
   "metadata": {},
   "source": [
    "Otra función útil es **readline()** con la cuál podemos leer una linea completa del archivo. Podemos leer varias lineas sucesivamente de la siguiente forma:"
   ]
  },
  {
   "cell_type": "code",
   "execution_count": 11,
   "metadata": {},
   "outputs": [
    {
     "name": "stdout",
     "output_type": "stream",
     "text": [
      "Has abierto un archivo!\n",
      "\n",
      "Descrube todas las formas de manipular archivos en Python.\n"
     ]
    }
   ],
   "source": [
    "archivo = open('../sources/archivo1.txt', 'rt')\n",
    "\n",
    "print(archivo.readline()) # Imprime la primer linea de texto\n",
    "print(archivo.readline()) # Imprime la segunda linea de texto\n",
    "\n",
    "archivo.close() "
   ]
  },
  {
   "cell_type": "markdown",
   "metadata": {},
   "source": [
    "También podemos **iterar** sobre el archivo para imprimir todo su contenido de la forma que ya hemos visto en capítulos anteriores con la sentencia **for**."
   ]
  },
  {
   "cell_type": "code",
   "execution_count": 12,
   "metadata": {},
   "outputs": [
    {
     "name": "stdout",
     "output_type": "stream",
     "text": [
      "Has abierto un archivo!\n",
      "\n",
      "Descrube todas las formas de manipular archivos en Python.\n"
     ]
    }
   ],
   "source": [
    "archivo = open('../sources/archivo1.txt', 'rt')\n",
    "\n",
    "for u in archivo: # Así recorremos objetos iterables\n",
    "    print(u)\n",
    "\n",
    "archivo.close() "
   ]
  },
  {
   "cell_type": "markdown",
   "metadata": {},
   "source": [
    "Por último veremos la manera de imprimir la ruta y nombre del archivo que estamos manejando. Esto es con el *atributo* **name**. Observa cómo se usa."
   ]
  },
  {
   "cell_type": "code",
   "execution_count": 13,
   "metadata": {},
   "outputs": [
    {
     "name": "stdout",
     "output_type": "stream",
     "text": [
      "../sources/archivo1.txt\n"
     ]
    }
   ],
   "source": [
    "archivo = open('../sources/archivo1.txt', 'rt') \n",
    "\n",
    "print(archivo.name) # Se imprime la ruta y el nombre del archivo\n",
    "\n",
    "archivo.close() "
   ]
  },
  {
   "cell_type": "markdown",
   "metadata": {},
   "source": [
    "<div style=\"text-align: right\"> \n",
    "Regresar al <a href=\"#PA1_lecturaArchivos\">Inicio</a>\n",
    "</div>"
   ]
  },
  {
   "cell_type": "markdown",
   "metadata": {},
   "source": [
    "## Escritura de archivos <a name=\"PA1_sec3\"></a>\n",
    "\n",
    "La siguiente utilidad de los archivos es cuando los usamos para llevar un 'registro' que se almacenará en la computadora y que contendrá la información necesaria para algún proceso.\n",
    "Para abrir un archivo y escribir en él se usa el modo **w** (que viene de *write* en inglés) seguido de la **t** o **b** dependiendo del tipo de archivo. La particularidad de este modo de escritura es que sobreescribe la información que pueda contener el archivo por abrir. Es decir, borra todo y escribe nueva información. Con este modo se crea un archivo nuevo si no encuentra el archivo especificado.\n",
    "\n",
    "La función necesaria para esto es **write()** en la que debemos específicar qué vamos a escribir.\n",
    "\n",
    "Veamos un ejemplo en el que leemos la información de un archivo para después escribir sobre él."
   ]
  },
  {
   "cell_type": "code",
   "execution_count": 19,
   "metadata": {},
   "outputs": [
    {
     "name": "stdout",
     "output_type": "stream",
     "text": [
      "Información Actualizada\n",
      "Información Actualizada\n"
     ]
    }
   ],
   "source": [
    "archivo = open('../sources/archivo2.txt', 'rt') # Primero leemos el archivo\n",
    "print(archivo.read()) \n",
    "archivo.close() \n",
    "\n",
    "archivo = open('../sources/archivo2.txt', 'wt') # Volvemos a abrir el archivo pero esta vez para escritura\n",
    "archivo.write(\"Información Actualizada\") # Usamos la función write() para escribir en el archivo\n",
    "archivo.close()\n",
    "\n",
    "archivo = open('../sources/archivo2.txt', 'rt') # Volvemos a leer el archivo\n",
    "print(archivo.read()) \n",
    "archivo.close() "
   ]
  },
  {
   "cell_type": "markdown",
   "metadata": {},
   "source": [
    "Cuando no deseamos sobreescribir nuestra información sino escribir más en el archivo usamos la modalidad **a** con la que se añade información al final del archivo. Usemos este modo en un ejemplo."
   ]
  },
  {
   "cell_type": "code",
   "execution_count": 25,
   "metadata": {},
   "outputs": [
    {
     "name": "stdout",
     "output_type": "stream",
     "text": [
      "Información Actualizada\n",
      "Información añadida al final\n",
      "Información añadida al final\n",
      "Información añadida al final\n",
      "Información añadida al final\n"
     ]
    }
   ],
   "source": [
    "archivo = open('../sources/archivo2.txt', 'at')\n",
    "archivo.write(\"\\nInformación añadida al final\") # Observa la secuencia de escape \\n para escribir en otro renglón\n",
    "archivo.close()\n",
    "\n",
    "archivo = open('../sources/archivo2.txt', 'rt') # Leemos el archivo\n",
    "print(archivo.read()) \n",
    "archivo.close() "
   ]
  },
  {
   "cell_type": "markdown",
   "metadata": {},
   "source": [
    ">**Ejercicio**\n",
    "> - ¿Se puede utilizar la función **read()** cuando abrimos el archivo en la modalidad **wt** ?\n",
    "> - Crea un archivo de texto llamado 'info.txt' y almacena en él tu nombre y edad.\n",
    "\n",
    "<div style=\"text-align: right\"> \n",
    "Regresar al <a href=\"#PA1_lecturaArchivos\">Inicio</a>\n",
    "</div>"
   ]
  },
  {
   "cell_type": "markdown",
   "metadata": {},
   "source": [
    "## Funciones extra <a name=\"PA1_sec4\"></a>\n",
    "\n",
    "Ahora hablemos sobre otras modalidades de apertura de archivos, la primera es la modalidad **x** la cuál sirve para crear un nuevo archivo y regresará un error si el archivo ya existe. Nótese que no se puede leer ni escribir en el archivo con esta modalidad pero puede ser útil para verificar la existencia de un archivo y tomar decisiones sobre cómo manipularlo.\n",
    "\n",
    "La otra modalidad es aquella que nos permite leer y escribir en un archivo tal como ya lo podemos hacer. Simplemente se usa el modo **r+** para tener control total sobre un archivo.\n",
    "\n",
    "Finalmente vamos a conocer la función **seek()** la cuál sirve para posicionarnos en una parte específica del archivo. Habrás notado que tanto la lectura como la escritura de archivos se realiza en el inicio o en el final de un archivo pero no podíamos posicionarnos en algún punto específico para realizar una acción. Ahora con la función **seek()** podemos indicar en qué linea del archivo queremos posicionarnos para leer o escribir.\n",
    "\n",
    "Aquí hay un ejemplo:\n",
    "\n",
    "```python\n",
    "archivo = open('informacion.txt','r+')\n",
    "\n",
    "print(archivo.read()) # Al realizar esta acción la posición para realizar acciones en el archivo es hasta el final.\n",
    "archivo.seek(0) # Regresamos al inicio del archivo\n",
    "archivo.write(\"Cambio \")\n",
    "print(archivo.read()) #Imprime la información del archivo escrita después de lo que acabamos de escribir\n",
    "archivo.seek(0) # Regresamos al inicio del archivo\n",
    "print(archivo.read())\n",
    "\n",
    "archivo.close()\n",
    "```\n",
    "\n",
    "\n",
    ">**Ejercicio**\n",
    "> - Prueba el modo **r+** para leer y escribir sobre un archivo.\n",
    "> - ***Experimenta*** con la función **seek()** para modificar un archivo de texto nuevo con múltiples lineas de texto \n",
    "\n",
    "<div style=\"text-align: right\"> \n",
    "Regresar al <a href=\"#PA1_lecturaArchivos\">Inicio</a>\n",
    "</div>"
   ]
  },
  {
   "cell_type": "markdown",
   "metadata": {},
   "source": [
    "# Sección Yeyecoa <a name=\"PA1_seccionYeyecoa\"><a/>\n",
    "___\n",
    "\n",
    "1. Escribe un programa que le pida al usuario las coordenadas de dos puntos en el plano y calcule la distancia que existe entre ellos. Después de hacer el cálculo debe crear un archivo de texto en el que escriba en la primer línea las coordenadas del primer punto, en la segunda línea las coordenadas del segundo punto y en la tercera debe escribir el mensaje 'Distancia entre los puntos: ' seguido del resultado de tu cálculo. Finalmente debe imprimir un mensaje anunciando en dónde(ruta y nombre del archivo) se encuentran los resultados.\n",
    "\n",
    "<div style=\"text-align: right\"> \n",
    "Regresar al <a href=\"#PA1_lecturaArchivos\">Inicio</a>\n",
    "</div>"
   ]
  }
 ],
 "metadata": {
  "kernelspec": {
   "display_name": "Python 3",
   "language": "python",
   "name": "python3"
  },
  "language_info": {
   "codemirror_mode": {
    "name": "ipython",
    "version": 3
   },
   "file_extension": ".py",
   "mimetype": "text/x-python",
   "name": "python",
   "nbconvert_exporter": "python",
   "pygments_lexer": "ipython3",
   "version": "3.6.8"
  }
 },
 "nbformat": 4,
 "nbformat_minor": 2
}
